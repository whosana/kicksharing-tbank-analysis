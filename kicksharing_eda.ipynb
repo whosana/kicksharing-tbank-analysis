{
 "cells": [
  {
   "cell_type": "code",
   "execution_count": null,
   "id": "8a890531",
   "metadata": {},
   "outputs": [],
   "source": [
    "\n",
    "import pandas as pd\n",
    "import matplotlib.pyplot as plt\n",
    "import seaborn as sns\n",
    "\n",
    "# Загрузка данных\n",
    "df = pd.read_csv('kicksharing.csv')\n",
    "\n",
    "# Предобработка\n",
    "df['book_start_dttm'] = pd.to_datetime(df['book_start_dttm'])\n",
    "df['book_end_dttm'] = pd.to_datetime(df['book_end_dttm'])\n",
    "df['ride_duration_min'] = (df['book_end_dttm'] - df['book_start_dttm']).dt.total_seconds() / 60\n",
    "df['hour'] = df['book_start_dttm'].dt.hour\n",
    "df['month'] = df['book_start_dttm'].dt.month\n",
    "df['weekday'] = df['book_start_dttm'].dt.dayofweek\n"
   ]
  },
  {
   "cell_type": "code",
   "execution_count": null,
   "id": "eae6c30b",
   "metadata": {},
   "outputs": [],
   "source": [
    "\n",
    "# Распределение длительности поездок\n",
    "sns.histplot(df['ride_duration_min'], bins=50, kde=True)\n",
    "plt.title('Распределение длительности поездок (мин)')\n",
    "plt.xlabel('Минуты')\n",
    "plt.ylabel('Количество поездок')\n",
    "plt.show()\n"
   ]
  },
  {
   "cell_type": "code",
   "execution_count": null,
   "id": "aab1af93",
   "metadata": {},
   "outputs": [],
   "source": [
    "\n",
    "# Поездки по времени суток\n",
    "sns.countplot(x='hour', data=df)\n",
    "plt.title('Поездки по времени суток')\n",
    "plt.xlabel('Час')\n",
    "plt.ylabel('Количество поездок')\n",
    "plt.show()\n"
   ]
  },
  {
   "cell_type": "code",
   "execution_count": null,
   "id": "78c28530",
   "metadata": {},
   "outputs": [],
   "source": [
    "\n",
    "# Стоимость от расстояния\n",
    "sns.scatterplot(x='distance_km', y='nominal_price_rub_amt', data=df, alpha=0.5)\n",
    "plt.title('Стоимость поездки в зависимости от расстояния')\n",
    "plt.xlabel('Расстояние (км)')\n",
    "plt.ylabel('Стоимость (руб.)')\n",
    "plt.show()\n"
   ]
  },
  {
   "cell_type": "code",
   "execution_count": null,
   "id": "80ca623b",
   "metadata": {},
   "outputs": [],
   "source": [
    "\n",
    "# География поездок\n",
    "top_regions = df['lvn_state_nm'].value_counts().head(10)\n",
    "sns.barplot(x=top_regions.values, y=top_regions.index)\n",
    "plt.title('Топ-10 регионов по количеству поездок')\n",
    "plt.xlabel('Количество поездок')\n",
    "plt.ylabel('Регион')\n",
    "plt.show()\n"
   ]
  }
 ],
 "metadata": {},
 "nbformat": 4,
 "nbformat_minor": 5
}
